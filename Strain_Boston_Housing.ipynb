{
  "nbformat": 4,
  "nbformat_minor": 0,
  "metadata": {
    "colab": {
      "name": "Strain_Boston_Housing.ipynb",
      "provenance": [],
      "include_colab_link": true
    },
    "kernelspec": {
      "name": "python3",
      "display_name": "Python 3"
    }
  },
  "cells": [
    {
      "cell_type": "markdown",
      "metadata": {
        "id": "view-in-github",
        "colab_type": "text"
      },
      "source": [
        "<a href=\"https://colab.research.google.com/github/bstrain71/422_boston_housing/blob/master/Strain_Boston_Housing.ipynb\" target=\"_parent\"><img src=\"https://colab.research.google.com/assets/colab-badge.svg\" alt=\"Open In Colab\"/></a>"
      ]
    },
    {
      "cell_type": "markdown",
      "metadata": {
        "id": "nY11Ev7CuwTS",
        "colab_type": "text"
      },
      "source": [
        "## Ingest"
      ]
    },
    {
      "cell_type": "code",
      "metadata": {
        "id": "ScDaWkhIr3E8",
        "colab_type": "code",
        "colab": {}
      },
      "source": [
        "# import base packages into the namespace for this program\n",
        "import numpy as np\n",
        "import pandas as pd\n",
        "import sklearn\n",
        "import math\n",
        "import sklearn.model_selection\n",
        "import seaborn as sns\n",
        "import matplotlib.pyplot as plt\n",
        "from sklearn.model_selection import train_test_split\n",
        "from sklearn.linear_model import LogisticRegression\n",
        "\n",
        "\n",
        "# read data from github\n",
        "df = pd.read_csv('https://raw.githubusercontent.com/bstrain71/422_boston_housing/master/boston.csv')\n",
        "\n",
        "\n",
        "# remove neighborhood column IAW instructions\n",
        "df = df.drop(columns=['neighborhood'])\n",
        "\n",
        "base_df = df # save this to call column names, etc\n"
      ],
      "execution_count": 0,
      "outputs": []
    },
    {
      "cell_type": "markdown",
      "metadata": {
        "id": "Aqgz88xDuwcu",
        "colab_type": "text"
      },
      "source": [
        "## EDA"
      ]
    },
    {
      "cell_type": "code",
      "metadata": {
        "id": "eDK2pDmEGBVY",
        "colab_type": "code",
        "outputId": "34ba83a6-55fe-4a16-ca75-8819ed40067d",
        "colab": {
          "base_uri": "https://localhost:8080/",
          "height": 319
        }
      },
      "source": [
        "# i would like to predict the natural log vice the actual values\n",
        "df['mv'] = np.log(df['mv'])\n",
        "df = pd.DataFrame(df)\n",
        "\n",
        "print(df.shape)\n",
        "df.describe()"
      ],
      "execution_count": 0,
      "outputs": [
        {
          "output_type": "stream",
          "text": [
            "(506, 13)\n"
          ],
          "name": "stdout"
        },
        {
          "output_type": "execute_result",
          "data": {
            "text/html": [
              "<div>\n",
              "<style scoped>\n",
              "    .dataframe tbody tr th:only-of-type {\n",
              "        vertical-align: middle;\n",
              "    }\n",
              "\n",
              "    .dataframe tbody tr th {\n",
              "        vertical-align: top;\n",
              "    }\n",
              "\n",
              "    .dataframe thead th {\n",
              "        text-align: right;\n",
              "    }\n",
              "</style>\n",
              "<table border=\"1\" class=\"dataframe\">\n",
              "  <thead>\n",
              "    <tr style=\"text-align: right;\">\n",
              "      <th></th>\n",
              "      <th>crim</th>\n",
              "      <th>zn</th>\n",
              "      <th>indus</th>\n",
              "      <th>chas</th>\n",
              "      <th>nox</th>\n",
              "      <th>rooms</th>\n",
              "      <th>age</th>\n",
              "      <th>dis</th>\n",
              "      <th>rad</th>\n",
              "      <th>tax</th>\n",
              "      <th>ptratio</th>\n",
              "      <th>lstat</th>\n",
              "      <th>mv</th>\n",
              "    </tr>\n",
              "  </thead>\n",
              "  <tbody>\n",
              "    <tr>\n",
              "      <th>count</th>\n",
              "      <td>506.000000</td>\n",
              "      <td>506.000000</td>\n",
              "      <td>506.000000</td>\n",
              "      <td>506.000000</td>\n",
              "      <td>506.000000</td>\n",
              "      <td>506.000000</td>\n",
              "      <td>506.000000</td>\n",
              "      <td>506.000000</td>\n",
              "      <td>506.000000</td>\n",
              "      <td>506.000000</td>\n",
              "      <td>506.000000</td>\n",
              "      <td>506.000000</td>\n",
              "      <td>506.000000</td>\n",
              "    </tr>\n",
              "    <tr>\n",
              "      <th>mean</th>\n",
              "      <td>3.613524</td>\n",
              "      <td>11.363636</td>\n",
              "      <td>11.136779</td>\n",
              "      <td>0.069170</td>\n",
              "      <td>0.554695</td>\n",
              "      <td>6.284634</td>\n",
              "      <td>68.574901</td>\n",
              "      <td>3.795043</td>\n",
              "      <td>9.549407</td>\n",
              "      <td>408.237154</td>\n",
              "      <td>18.455534</td>\n",
              "      <td>12.653063</td>\n",
              "      <td>3.034558</td>\n",
              "    </tr>\n",
              "    <tr>\n",
              "      <th>std</th>\n",
              "      <td>8.601545</td>\n",
              "      <td>23.322453</td>\n",
              "      <td>6.860353</td>\n",
              "      <td>0.253994</td>\n",
              "      <td>0.115878</td>\n",
              "      <td>0.702617</td>\n",
              "      <td>28.148861</td>\n",
              "      <td>2.105710</td>\n",
              "      <td>8.707259</td>\n",
              "      <td>168.537116</td>\n",
              "      <td>2.164946</td>\n",
              "      <td>7.141062</td>\n",
              "      <td>0.408275</td>\n",
              "    </tr>\n",
              "    <tr>\n",
              "      <th>min</th>\n",
              "      <td>0.006320</td>\n",
              "      <td>0.000000</td>\n",
              "      <td>0.460000</td>\n",
              "      <td>0.000000</td>\n",
              "      <td>0.385000</td>\n",
              "      <td>3.561000</td>\n",
              "      <td>2.900000</td>\n",
              "      <td>1.129600</td>\n",
              "      <td>1.000000</td>\n",
              "      <td>187.000000</td>\n",
              "      <td>12.600000</td>\n",
              "      <td>1.730000</td>\n",
              "      <td>1.609438</td>\n",
              "    </tr>\n",
              "    <tr>\n",
              "      <th>25%</th>\n",
              "      <td>0.082045</td>\n",
              "      <td>0.000000</td>\n",
              "      <td>5.190000</td>\n",
              "      <td>0.000000</td>\n",
              "      <td>0.449000</td>\n",
              "      <td>5.885500</td>\n",
              "      <td>45.025000</td>\n",
              "      <td>2.100175</td>\n",
              "      <td>4.000000</td>\n",
              "      <td>279.000000</td>\n",
              "      <td>17.400000</td>\n",
              "      <td>6.950000</td>\n",
              "      <td>2.834680</td>\n",
              "    </tr>\n",
              "    <tr>\n",
              "      <th>50%</th>\n",
              "      <td>0.256510</td>\n",
              "      <td>0.000000</td>\n",
              "      <td>9.690000</td>\n",
              "      <td>0.000000</td>\n",
              "      <td>0.538000</td>\n",
              "      <td>6.208500</td>\n",
              "      <td>77.500000</td>\n",
              "      <td>3.207450</td>\n",
              "      <td>5.000000</td>\n",
              "      <td>330.000000</td>\n",
              "      <td>19.050000</td>\n",
              "      <td>11.360000</td>\n",
              "      <td>3.054001</td>\n",
              "    </tr>\n",
              "    <tr>\n",
              "      <th>75%</th>\n",
              "      <td>3.677082</td>\n",
              "      <td>12.500000</td>\n",
              "      <td>18.100000</td>\n",
              "      <td>0.000000</td>\n",
              "      <td>0.624000</td>\n",
              "      <td>6.623500</td>\n",
              "      <td>94.075000</td>\n",
              "      <td>5.188425</td>\n",
              "      <td>24.000000</td>\n",
              "      <td>666.000000</td>\n",
              "      <td>20.200000</td>\n",
              "      <td>16.955000</td>\n",
              "      <td>3.218876</td>\n",
              "    </tr>\n",
              "    <tr>\n",
              "      <th>max</th>\n",
              "      <td>88.976200</td>\n",
              "      <td>100.000000</td>\n",
              "      <td>27.740000</td>\n",
              "      <td>1.000000</td>\n",
              "      <td>0.871000</td>\n",
              "      <td>8.780000</td>\n",
              "      <td>100.000000</td>\n",
              "      <td>12.126500</td>\n",
              "      <td>24.000000</td>\n",
              "      <td>711.000000</td>\n",
              "      <td>22.000000</td>\n",
              "      <td>37.970000</td>\n",
              "      <td>3.912023</td>\n",
              "    </tr>\n",
              "  </tbody>\n",
              "</table>\n",
              "</div>"
            ],
            "text/plain": [
              "             crim          zn       indus  ...     ptratio       lstat          mv\n",
              "count  506.000000  506.000000  506.000000  ...  506.000000  506.000000  506.000000\n",
              "mean     3.613524   11.363636   11.136779  ...   18.455534   12.653063    3.034558\n",
              "std      8.601545   23.322453    6.860353  ...    2.164946    7.141062    0.408275\n",
              "min      0.006320    0.000000    0.460000  ...   12.600000    1.730000    1.609438\n",
              "25%      0.082045    0.000000    5.190000  ...   17.400000    6.950000    2.834680\n",
              "50%      0.256510    0.000000    9.690000  ...   19.050000   11.360000    3.054001\n",
              "75%      3.677082   12.500000   18.100000  ...   20.200000   16.955000    3.218876\n",
              "max     88.976200  100.000000   27.740000  ...   22.000000   37.970000    3.912023\n",
              "\n",
              "[8 rows x 13 columns]"
            ]
          },
          "metadata": {
            "tags": []
          },
          "execution_count": 177
        }
      ]
    },
    {
      "cell_type": "code",
      "metadata": {
        "id": "BX2T1XiEUcae",
        "colab_type": "code",
        "outputId": "6a2fd77f-a8c0-4b2b-b367-055ace7e1996",
        "colab": {
          "base_uri": "https://localhost:8080/",
          "height": 300
        }
      },
      "source": [
        "# preprocess the data - scale everything to zero mean and unit variance\n",
        "# scale everything but the response variable\n",
        "no_response = df.drop(columns=['mv'])\n",
        "df_preprocessing = sklearn.preprocessing.scale(no_response)\n",
        "df = pd.concat((pd.DataFrame(df_preprocessing),\n",
        "                pd.DataFrame(df['mv'])),\n",
        "               axis = 1)\n",
        "\n",
        "df.columns = list(base_df.columns) \n",
        "\n",
        "df.describe()"
      ],
      "execution_count": 0,
      "outputs": [
        {
          "output_type": "execute_result",
          "data": {
            "text/html": [
              "<div>\n",
              "<style scoped>\n",
              "    .dataframe tbody tr th:only-of-type {\n",
              "        vertical-align: middle;\n",
              "    }\n",
              "\n",
              "    .dataframe tbody tr th {\n",
              "        vertical-align: top;\n",
              "    }\n",
              "\n",
              "    .dataframe thead th {\n",
              "        text-align: right;\n",
              "    }\n",
              "</style>\n",
              "<table border=\"1\" class=\"dataframe\">\n",
              "  <thead>\n",
              "    <tr style=\"text-align: right;\">\n",
              "      <th></th>\n",
              "      <th>crim</th>\n",
              "      <th>zn</th>\n",
              "      <th>indus</th>\n",
              "      <th>chas</th>\n",
              "      <th>nox</th>\n",
              "      <th>rooms</th>\n",
              "      <th>age</th>\n",
              "      <th>dis</th>\n",
              "      <th>rad</th>\n",
              "      <th>tax</th>\n",
              "      <th>ptratio</th>\n",
              "      <th>lstat</th>\n",
              "      <th>mv</th>\n",
              "    </tr>\n",
              "  </thead>\n",
              "  <tbody>\n",
              "    <tr>\n",
              "      <th>count</th>\n",
              "      <td>5.060000e+02</td>\n",
              "      <td>5.060000e+02</td>\n",
              "      <td>5.060000e+02</td>\n",
              "      <td>5.060000e+02</td>\n",
              "      <td>5.060000e+02</td>\n",
              "      <td>5.060000e+02</td>\n",
              "      <td>5.060000e+02</td>\n",
              "      <td>5.060000e+02</td>\n",
              "      <td>5.060000e+02</td>\n",
              "      <td>5.060000e+02</td>\n",
              "      <td>5.060000e+02</td>\n",
              "      <td>5.060000e+02</td>\n",
              "      <td>506.000000</td>\n",
              "    </tr>\n",
              "    <tr>\n",
              "      <th>mean</th>\n",
              "      <td>-8.688702e-17</td>\n",
              "      <td>3.306534e-16</td>\n",
              "      <td>2.804081e-16</td>\n",
              "      <td>-3.100287e-16</td>\n",
              "      <td>-8.071058e-16</td>\n",
              "      <td>-5.978968e-17</td>\n",
              "      <td>-2.650493e-16</td>\n",
              "      <td>8.293761e-17</td>\n",
              "      <td>1.514379e-15</td>\n",
              "      <td>-9.934960e-16</td>\n",
              "      <td>4.493551e-16</td>\n",
              "      <td>-1.595123e-16</td>\n",
              "      <td>3.034558</td>\n",
              "    </tr>\n",
              "    <tr>\n",
              "      <th>std</th>\n",
              "      <td>1.000990e+00</td>\n",
              "      <td>1.000990e+00</td>\n",
              "      <td>1.000990e+00</td>\n",
              "      <td>1.000990e+00</td>\n",
              "      <td>1.000990e+00</td>\n",
              "      <td>1.000990e+00</td>\n",
              "      <td>1.000990e+00</td>\n",
              "      <td>1.000990e+00</td>\n",
              "      <td>1.000990e+00</td>\n",
              "      <td>1.000990e+00</td>\n",
              "      <td>1.000990e+00</td>\n",
              "      <td>1.000990e+00</td>\n",
              "      <td>0.408275</td>\n",
              "    </tr>\n",
              "    <tr>\n",
              "      <th>min</th>\n",
              "      <td>-4.197819e-01</td>\n",
              "      <td>-4.877224e-01</td>\n",
              "      <td>-1.557842e+00</td>\n",
              "      <td>-2.725986e-01</td>\n",
              "      <td>-1.465882e+00</td>\n",
              "      <td>-3.880249e+00</td>\n",
              "      <td>-2.335437e+00</td>\n",
              "      <td>-1.267069e+00</td>\n",
              "      <td>-9.828429e-01</td>\n",
              "      <td>-1.313990e+00</td>\n",
              "      <td>-2.707379e+00</td>\n",
              "      <td>-1.531127e+00</td>\n",
              "      <td>1.609438</td>\n",
              "    </tr>\n",
              "    <tr>\n",
              "      <th>25%</th>\n",
              "      <td>-4.109696e-01</td>\n",
              "      <td>-4.877224e-01</td>\n",
              "      <td>-8.676906e-01</td>\n",
              "      <td>-2.725986e-01</td>\n",
              "      <td>-9.130288e-01</td>\n",
              "      <td>-5.686303e-01</td>\n",
              "      <td>-8.374480e-01</td>\n",
              "      <td>-8.056878e-01</td>\n",
              "      <td>-6.379618e-01</td>\n",
              "      <td>-7.675760e-01</td>\n",
              "      <td>-4.880391e-01</td>\n",
              "      <td>-7.994200e-01</td>\n",
              "      <td>2.834680</td>\n",
              "    </tr>\n",
              "    <tr>\n",
              "      <th>50%</th>\n",
              "      <td>-3.906665e-01</td>\n",
              "      <td>-4.877224e-01</td>\n",
              "      <td>-2.110985e-01</td>\n",
              "      <td>-2.725986e-01</td>\n",
              "      <td>-1.442174e-01</td>\n",
              "      <td>-1.084655e-01</td>\n",
              "      <td>3.173816e-01</td>\n",
              "      <td>-2.793234e-01</td>\n",
              "      <td>-5.230014e-01</td>\n",
              "      <td>-4.646726e-01</td>\n",
              "      <td>2.748590e-01</td>\n",
              "      <td>-1.812536e-01</td>\n",
              "      <td>3.054001</td>\n",
              "    </tr>\n",
              "    <tr>\n",
              "      <th>75%</th>\n",
              "      <td>7.396560e-03</td>\n",
              "      <td>4.877224e-02</td>\n",
              "      <td>1.015999e+00</td>\n",
              "      <td>-2.725986e-01</td>\n",
              "      <td>5.986790e-01</td>\n",
              "      <td>4.827678e-01</td>\n",
              "      <td>9.067981e-01</td>\n",
              "      <td>6.623709e-01</td>\n",
              "      <td>1.661245e+00</td>\n",
              "      <td>1.530926e+00</td>\n",
              "      <td>8.065758e-01</td>\n",
              "      <td>6.030188e-01</td>\n",
              "      <td>3.218876</td>\n",
              "    </tr>\n",
              "    <tr>\n",
              "      <th>max</th>\n",
              "      <td>9.933931e+00</td>\n",
              "      <td>3.804234e+00</td>\n",
              "      <td>2.422565e+00</td>\n",
              "      <td>3.668398e+00</td>\n",
              "      <td>2.732346e+00</td>\n",
              "      <td>3.555044e+00</td>\n",
              "      <td>1.117494e+00</td>\n",
              "      <td>3.960518e+00</td>\n",
              "      <td>1.661245e+00</td>\n",
              "      <td>1.798194e+00</td>\n",
              "      <td>1.638828e+00</td>\n",
              "      <td>3.548771e+00</td>\n",
              "      <td>3.912023</td>\n",
              "    </tr>\n",
              "  </tbody>\n",
              "</table>\n",
              "</div>"
            ],
            "text/plain": [
              "               crim            zn  ...         lstat          mv\n",
              "count  5.060000e+02  5.060000e+02  ...  5.060000e+02  506.000000\n",
              "mean  -8.688702e-17  3.306534e-16  ... -1.595123e-16    3.034558\n",
              "std    1.000990e+00  1.000990e+00  ...  1.000990e+00    0.408275\n",
              "min   -4.197819e-01 -4.877224e-01  ... -1.531127e+00    1.609438\n",
              "25%   -4.109696e-01 -4.877224e-01  ... -7.994200e-01    2.834680\n",
              "50%   -3.906665e-01 -4.877224e-01  ... -1.812536e-01    3.054001\n",
              "75%    7.396560e-03  4.877224e-02  ...  6.030188e-01    3.218876\n",
              "max    9.933931e+00  3.804234e+00  ...  3.548771e+00    3.912023\n",
              "\n",
              "[8 rows x 13 columns]"
            ]
          },
          "metadata": {
            "tags": []
          },
          "execution_count": 178
        }
      ]
    },
    {
      "cell_type": "code",
      "metadata": {
        "id": "PIrFiralG2GL",
        "colab_type": "code",
        "outputId": "c8216323-14ff-4221-cc86-1ced3c7ef4da",
        "colab": {
          "base_uri": "https://localhost:8080/",
          "height": 758
        }
      },
      "source": [
        "# correlations with mv - the response variable\n",
        "# my personal cutoff is |0.4|\n",
        "\n",
        "plt.figure(figsize=(13,13))\n",
        "sns.heatmap(corr[['mv']].\n",
        "            sort_values(by=['mv'],ascending=False),\n",
        "            vmin=-1,\n",
        "            cmap='coolwarm',\n",
        "            annot=True);"
      ],
      "execution_count": 0,
      "outputs": [
        {
          "output_type": "display_data",
          "data": {
            "image/png": "[encoded data removed]",
            "text/plain": [
              "<Figure size 936x936 with 2 Axes>"
            ]
          },
          "metadata": {
            "tags": []
          }
        }
      ]
    },
    {
      "cell_type": "code",
      "metadata": {
        "id": "jUe8g6sDPW8g",
        "colab_type": "code",
        "outputId": "c867ab6f-7e15-405a-95c0-bc09c269fdfd",
        "colab": {
          "base_uri": "https://localhost:8080/",
          "height": 289
        }
      },
      "source": [
        "# correlation matrix with the top contenders for good predictive variables\n",
        "mvp_corr = df[['mv','lstat','tax','indus','crim','nox','ptratio','rad','age','rooms']].corr()\n",
        "\n",
        "\n",
        "ax = sns.heatmap(\n",
        "    mvp_corr, \n",
        "    vmin=-1, vmax=1, center=0,\n",
        "    cmap='coolwarm',\n",
        "    annot=True\n",
        ")\n",
        "\n",
        "ax.set_xticklabels(\n",
        "    ax.get_xticklabels(),\n",
        "    rotation=45,\n",
        "    horizontalalignment='right'\n",
        ");\n"
      ],
      "execution_count": 0,
      "outputs": [
        {
          "output_type": "display_data",
          "data": {
            "image/png": "[encoded data removed]",
            "text/plain": [
              "<Figure size 432x288 with 2 Axes>"
            ]
          },
          "metadata": {
            "tags": []
          }
        }
      ]
    },
    {
      "cell_type": "markdown",
      "metadata": {
        "id": "MCDgin2rYWUJ",
        "colab_type": "text"
      },
      "source": [
        "The variables tax and rad are highly correlated (0.91) so only one of them should be used in the regression - OR\n",
        "we can try an interaction term with them. Let's look at that in the modeling phase."
      ]
    },
    {
      "cell_type": "markdown",
      "metadata": {
        "id": "56NDZb30uwkC",
        "colab_type": "text"
      },
      "source": [
        "## Modeling"
      ]
    },
    {
      "cell_type": "code",
      "metadata": {
        "id": "B9aimC5UzZZd",
        "colab_type": "code",
        "outputId": "bdce240f-32b4-47cb-c7d5-58b8e7a4ca0c",
        "colab": {
          "base_uri": "https://localhost:8080/",
          "height": 206
        }
      },
      "source": [
        "mvp_df = df[['mv','lstat','tax','indus','crim','nox',\n",
        "             'ptratio','rad','age','rooms']]\n",
        "\n",
        "mvp_df.loc[:,:].head()"
      ],
      "execution_count": 0,
      "outputs": [
        {
          "output_type": "execute_result",
          "data": {
            "text/html": [
              "<div>\n",
              "<style scoped>\n",
              "    .dataframe tbody tr th:only-of-type {\n",
              "        vertical-align: middle;\n",
              "    }\n",
              "\n",
              "    .dataframe tbody tr th {\n",
              "        vertical-align: top;\n",
              "    }\n",
              "\n",
              "    .dataframe thead th {\n",
              "        text-align: right;\n",
              "    }\n",
              "</style>\n",
              "<table border=\"1\" class=\"dataframe\">\n",
              "  <thead>\n",
              "    <tr style=\"text-align: right;\">\n",
              "      <th></th>\n",
              "      <th>mv</th>\n",
              "      <th>lstat</th>\n",
              "      <th>tax</th>\n",
              "      <th>indus</th>\n",
              "      <th>crim</th>\n",
              "      <th>nox</th>\n",
              "      <th>ptratio</th>\n",
              "      <th>rad</th>\n",
              "      <th>age</th>\n",
              "      <th>rooms</th>\n",
              "    </tr>\n",
              "  </thead>\n",
              "  <tbody>\n",
              "    <tr>\n",
              "      <th>0</th>\n",
              "      <td>3.178054</td>\n",
              "      <td>-1.075562</td>\n",
              "      <td>-0.666608</td>\n",
              "      <td>-1.287909</td>\n",
              "      <td>-0.419782</td>\n",
              "      <td>-0.144217</td>\n",
              "      <td>-1.459000</td>\n",
              "      <td>-0.982843</td>\n",
              "      <td>-0.120013</td>\n",
              "      <td>0.413672</td>\n",
              "    </tr>\n",
              "    <tr>\n",
              "      <th>1</th>\n",
              "      <td>3.072693</td>\n",
              "      <td>-0.492439</td>\n",
              "      <td>-0.987329</td>\n",
              "      <td>-0.593381</td>\n",
              "      <td>-0.417339</td>\n",
              "      <td>-0.740262</td>\n",
              "      <td>-0.303094</td>\n",
              "      <td>-0.867883</td>\n",
              "      <td>0.367166</td>\n",
              "      <td>0.194274</td>\n",
              "    </tr>\n",
              "    <tr>\n",
              "      <th>2</th>\n",
              "      <td>3.546740</td>\n",
              "      <td>-1.208727</td>\n",
              "      <td>-0.987329</td>\n",
              "      <td>-0.593381</td>\n",
              "      <td>-0.417342</td>\n",
              "      <td>-0.740262</td>\n",
              "      <td>-0.303094</td>\n",
              "      <td>-0.867883</td>\n",
              "      <td>-0.265812</td>\n",
              "      <td>1.282714</td>\n",
              "    </tr>\n",
              "    <tr>\n",
              "      <th>3</th>\n",
              "      <td>3.508556</td>\n",
              "      <td>-1.361517</td>\n",
              "      <td>-1.106115</td>\n",
              "      <td>-1.306878</td>\n",
              "      <td>-0.416750</td>\n",
              "      <td>-0.835284</td>\n",
              "      <td>0.113032</td>\n",
              "      <td>-0.752922</td>\n",
              "      <td>-0.809889</td>\n",
              "      <td>1.016303</td>\n",
              "    </tr>\n",
              "    <tr>\n",
              "      <th>4</th>\n",
              "      <td>3.589059</td>\n",
              "      <td>-1.026501</td>\n",
              "      <td>-1.106115</td>\n",
              "      <td>-1.306878</td>\n",
              "      <td>-0.412482</td>\n",
              "      <td>-0.835284</td>\n",
              "      <td>0.113032</td>\n",
              "      <td>-0.752922</td>\n",
              "      <td>-0.511180</td>\n",
              "      <td>1.228577</td>\n",
              "    </tr>\n",
              "  </tbody>\n",
              "</table>\n",
              "</div>"
            ],
            "text/plain": [
              "         mv     lstat       tax  ...       rad       age     rooms\n",
              "0  3.178054 -1.075562 -0.666608  ... -0.982843 -0.120013  0.413672\n",
              "1  3.072693 -0.492439 -0.987329  ... -0.867883  0.367166  0.194274\n",
              "2  3.546740 -1.208727 -0.987329  ... -0.867883 -0.265812  1.282714\n",
              "3  3.508556 -1.361517 -1.106115  ... -0.752922 -0.809889  1.016303\n",
              "4  3.589059 -1.026501 -1.106115  ... -0.752922 -0.511180  1.228577\n",
              "\n",
              "[5 rows x 10 columns]"
            ]
          },
          "metadata": {
            "tags": []
          },
          "execution_count": 209
        }
      ]
    },
    {
      "cell_type": "markdown",
      "metadata": {
        "id": "1nKb1zQ51s2a",
        "colab_type": "text"
      },
      "source": [
        "### Don't forget to code an interaction variable for tax and rad!!!"
      ]
    },
    {
      "cell_type": "code",
      "metadata": {
        "id": "oKglQdzY1slr",
        "colab_type": "code",
        "colab": {}
      },
      "source": [
        ""
      ],
      "execution_count": 0,
      "outputs": []
    },
    {
      "cell_type": "code",
      "metadata": {
        "id": "sHONXJRLYic0",
        "colab_type": "code",
        "outputId": "852d7644-327c-44bc-b78a-bdc22057e94d",
        "colab": {
          "base_uri": "https://localhost:8080/",
          "height": 337
        }
      },
      "source": [
        "mvp_df = df[['mv','lstat','tax','indus','crim','nox',\n",
        "             'ptratio','rad','age','rooms']]\n",
        "\n",
        "X_train, X_test, y_train, y_test = train_test_split(\n",
        "  mvp_df.loc[:,'lstat':], mvp_df.loc[:,'mv'],\n",
        "    random_state=24601)\n",
        "\n",
        "\n",
        "ridge = LinearRegression().fit(X_train, y_train)\n",
        "print(\"Training set score: {:.3f}\".format(ridge.score(X_train, y_train)))\n",
        "print(\"Test set score: {:.3f}\".format(ridge.score(X_test, y_test)))\n",
        "\n",
        "ridge_predictions = pd.DataFrame(ridge.predict(X_test))\n",
        "ridge_predictions.describe()"
      ],
      "execution_count": 0,
      "outputs": [
        {
          "output_type": "stream",
          "text": [
            "Training set score: 0.772\n",
            "Test set score: 0.742\n"
          ],
          "name": "stdout"
        },
        {
          "output_type": "execute_result",
          "data": {
            "text/html": [
              "<div>\n",
              "<style scoped>\n",
              "    .dataframe tbody tr th:only-of-type {\n",
              "        vertical-align: middle;\n",
              "    }\n",
              "\n",
              "    .dataframe tbody tr th {\n",
              "        vertical-align: top;\n",
              "    }\n",
              "\n",
              "    .dataframe thead th {\n",
              "        text-align: right;\n",
              "    }\n",
              "</style>\n",
              "<table border=\"1\" class=\"dataframe\">\n",
              "  <thead>\n",
              "    <tr style=\"text-align: right;\">\n",
              "      <th></th>\n",
              "      <th>0</th>\n",
              "    </tr>\n",
              "  </thead>\n",
              "  <tbody>\n",
              "    <tr>\n",
              "      <th>count</th>\n",
              "      <td>127.000000</td>\n",
              "    </tr>\n",
              "    <tr>\n",
              "      <th>mean</th>\n",
              "      <td>3.026434</td>\n",
              "    </tr>\n",
              "    <tr>\n",
              "      <th>std</th>\n",
              "      <td>0.379380</td>\n",
              "    </tr>\n",
              "    <tr>\n",
              "      <th>min</th>\n",
              "      <td>1.985642</td>\n",
              "    </tr>\n",
              "    <tr>\n",
              "      <th>25%</th>\n",
              "      <td>2.772448</td>\n",
              "    </tr>\n",
              "    <tr>\n",
              "      <th>50%</th>\n",
              "      <td>3.068126</td>\n",
              "    </tr>\n",
              "    <tr>\n",
              "      <th>75%</th>\n",
              "      <td>3.321542</td>\n",
              "    </tr>\n",
              "    <tr>\n",
              "      <th>max</th>\n",
              "      <td>3.714624</td>\n",
              "    </tr>\n",
              "  </tbody>\n",
              "</table>\n",
              "</div>"
            ],
            "text/plain": [
              "                0\n",
              "count  127.000000\n",
              "mean     3.026434\n",
              "std      0.379380\n",
              "min      1.985642\n",
              "25%      2.772448\n",
              "50%      3.068126\n",
              "75%      3.321542\n",
              "max      3.714624"
            ]
          },
          "metadata": {
            "tags": []
          },
          "execution_count": 212
        }
      ]
    },
    {
      "cell_type": "markdown",
      "metadata": {
        "id": "W9MKcua-9VOX",
        "colab_type": "text"
      },
      "source": [
        "Attempting to include an interaction variable: tax * rad: but first check to see if either of them are Nelder's \"special points\" (Nelder, J.A., The selection of terms in response-surface models - How strong is the weak-heredity principle? *The American Statistician*, 52, 315, 1998.)"
      ]
    },
    {
      "cell_type": "code",
      "metadata": {
        "id": "QRYYqP8_9N3J",
        "colab_type": "code",
        "colab": {}
      },
      "source": [
        ""
      ],
      "execution_count": 0,
      "outputs": []
    },
    {
      "cell_type": "markdown",
      "metadata": {
        "id": "4kM1lDiJuwvv",
        "colab_type": "text"
      },
      "source": [
        "## Conclusion"
      ]
    }
  ]
}