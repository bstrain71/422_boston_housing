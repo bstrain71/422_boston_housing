{
  "nbformat": 4,
  "nbformat_minor": 0,
  "metadata": {
    "colab": {
      "name": "Strain_Boston_Housing_Assignment4.ipynb",
      "provenance": [],
      "collapsed_sections": [],
      "include_colab_link": true
    },
    "kernelspec": {
      "name": "python3",
      "display_name": "Python 3"
    }
  },
  "cells": [
    {
      "cell_type": "markdown",
      "metadata": {
        "id": "view-in-github",
        "colab_type": "text"
      },
      "source": [
        "<a href=\"https://colab.research.google.com/github/bstrain71/422_boston_housing/blob/master/Strain_Boston_Housing_Assignment4.ipynb\" target=\"_parent\"><img src=\"https://colab.research.google.com/assets/colab-badge.svg\" alt=\"Open In Colab\"/></a>"
      ]
    },
    {
      "cell_type": "markdown",
      "metadata": {
        "id": "nY11Ev7CuwTS",
        "colab_type": "text"
      },
      "source": [
        "## Ingest"
      ]
    },
    {
      "cell_type": "code",
      "metadata": {
        "id": "ScDaWkhIr3E8",
        "colab_type": "code",
        "colab": {}
      },
      "source": [
        "# import base packages into the namespace for this program\n",
        "import numpy as np\n",
        "import pandas as pd\n",
        "import sklearn\n",
        "import math\n",
        "import sklearn.model_selection\n",
        "import seaborn as sns\n",
        "import matplotlib.pyplot as plt\n",
        "from sklearn.model_selection import train_test_split\n",
        "from sklearn.linear_model import LinearRegression\n",
        "\n",
        "\n",
        "# read data from github\n",
        "df = pd.read_csv('https://raw.githubusercontent.com/bstrain71/422_boston_housing/master/boston.csv')\n",
        "\n",
        "\n",
        "# remove neighborhood column IAW instructions\n",
        "df = df.drop(columns=['neighborhood'])\n",
        "\n",
        "base_df = df # save this to call column names, etc\n"
      ],
      "execution_count": 0,
      "outputs": []
    },
    {
      "cell_type": "markdown",
      "metadata": {
        "id": "Aqgz88xDuwcu",
        "colab_type": "text"
      },
      "source": [
        "## EDA"
      ]
    },
    {
      "cell_type": "code",
      "metadata": {
        "id": "eDK2pDmEGBVY",
        "colab_type": "code",
        "outputId": "d5056bd9-6ef1-4e19-f402-a2d4d71a936c",
        "colab": {
          "base_uri": "https://localhost:8080/",
          "height": 339
        }
      },
      "source": [
        "# i would like to predict the natural log vice the actual values\n",
        "df['mv'] = np.log(df['mv'])\n",
        "df = pd.DataFrame(df)\n",
        "\n",
        "print(df.shape)\n",
        "df.describe()"
      ],
      "execution_count": 0,
      "outputs": [
        {
          "output_type": "stream",
          "text": [
            "(506, 13)\n"
          ],
          "name": "stdout"
        },
        {
          "output_type": "execute_result",
          "data": {
            "text/html": [
              "<div>\n",
              "<style scoped>\n",
              "    .dataframe tbody tr th:only-of-type {\n",
              "        vertical-align: middle;\n",
              "    }\n",
              "\n",
              "    .dataframe tbody tr th {\n",
              "        vertical-align: top;\n",
              "    }\n",
              "\n",
              "    .dataframe thead th {\n",
              "        text-align: right;\n",
              "    }\n",
              "</style>\n",
              "<table border=\"1\" class=\"dataframe\">\n",
              "  <thead>\n",
              "    <tr style=\"text-align: right;\">\n",
              "      <th></th>\n",
              "      <th>crim</th>\n",
              "      <th>zn</th>\n",
              "      <th>indus</th>\n",
              "      <th>chas</th>\n",
              "      <th>nox</th>\n",
              "      <th>rooms</th>\n",
              "      <th>age</th>\n",
              "      <th>dis</th>\n",
              "      <th>rad</th>\n",
              "      <th>tax</th>\n",
              "      <th>ptratio</th>\n",
              "      <th>lstat</th>\n",
              "      <th>mv</th>\n",
              "    </tr>\n",
              "  </thead>\n",
              "  <tbody>\n",
              "    <tr>\n",
              "      <th>count</th>\n",
              "      <td>506.000000</td>\n",
              "      <td>506.000000</td>\n",
              "      <td>506.000000</td>\n",
              "      <td>506.000000</td>\n",
              "      <td>506.000000</td>\n",
              "      <td>506.000000</td>\n",
              "      <td>506.000000</td>\n",
              "      <td>506.000000</td>\n",
              "      <td>506.000000</td>\n",
              "      <td>506.000000</td>\n",
              "      <td>506.000000</td>\n",
              "      <td>506.000000</td>\n",
              "      <td>506.000000</td>\n",
              "    </tr>\n",
              "    <tr>\n",
              "      <th>mean</th>\n",
              "      <td>3.613524</td>\n",
              "      <td>11.363636</td>\n",
              "      <td>11.136779</td>\n",
              "      <td>0.069170</td>\n",
              "      <td>0.554695</td>\n",
              "      <td>6.284634</td>\n",
              "      <td>68.574901</td>\n",
              "      <td>3.795043</td>\n",
              "      <td>9.549407</td>\n",
              "      <td>408.237154</td>\n",
              "      <td>18.455534</td>\n",
              "      <td>12.653063</td>\n",
              "      <td>3.034558</td>\n",
              "    </tr>\n",
              "    <tr>\n",
              "      <th>std</th>\n",
              "      <td>8.601545</td>\n",
              "      <td>23.322453</td>\n",
              "      <td>6.860353</td>\n",
              "      <td>0.253994</td>\n",
              "      <td>0.115878</td>\n",
              "      <td>0.702617</td>\n",
              "      <td>28.148861</td>\n",
              "      <td>2.105710</td>\n",
              "      <td>8.707259</td>\n",
              "      <td>168.537116</td>\n",
              "      <td>2.164946</td>\n",
              "      <td>7.141062</td>\n",
              "      <td>0.408275</td>\n",
              "    </tr>\n",
              "    <tr>\n",
              "      <th>min</th>\n",
              "      <td>0.006320</td>\n",
              "      <td>0.000000</td>\n",
              "      <td>0.460000</td>\n",
              "      <td>0.000000</td>\n",
              "      <td>0.385000</td>\n",
              "      <td>3.561000</td>\n",
              "      <td>2.900000</td>\n",
              "      <td>1.129600</td>\n",
              "      <td>1.000000</td>\n",
              "      <td>187.000000</td>\n",
              "      <td>12.600000</td>\n",
              "      <td>1.730000</td>\n",
              "      <td>1.609438</td>\n",
              "    </tr>\n",
              "    <tr>\n",
              "      <th>25%</th>\n",
              "      <td>0.082045</td>\n",
              "      <td>0.000000</td>\n",
              "      <td>5.190000</td>\n",
              "      <td>0.000000</td>\n",
              "      <td>0.449000</td>\n",
              "      <td>5.885500</td>\n",
              "      <td>45.025000</td>\n",
              "      <td>2.100175</td>\n",
              "      <td>4.000000</td>\n",
              "      <td>279.000000</td>\n",
              "      <td>17.400000</td>\n",
              "      <td>6.950000</td>\n",
              "      <td>2.834680</td>\n",
              "    </tr>\n",
              "    <tr>\n",
              "      <th>50%</th>\n",
              "      <td>0.256510</td>\n",
              "      <td>0.000000</td>\n",
              "      <td>9.690000</td>\n",
              "      <td>0.000000</td>\n",
              "      <td>0.538000</td>\n",
              "      <td>6.208500</td>\n",
              "      <td>77.500000</td>\n",
              "      <td>3.207450</td>\n",
              "      <td>5.000000</td>\n",
              "      <td>330.000000</td>\n",
              "      <td>19.050000</td>\n",
              "      <td>11.360000</td>\n",
              "      <td>3.054001</td>\n",
              "    </tr>\n",
              "    <tr>\n",
              "      <th>75%</th>\n",
              "      <td>3.677082</td>\n",
              "      <td>12.500000</td>\n",
              "      <td>18.100000</td>\n",
              "      <td>0.000000</td>\n",
              "      <td>0.624000</td>\n",
              "      <td>6.623500</td>\n",
              "      <td>94.075000</td>\n",
              "      <td>5.188425</td>\n",
              "      <td>24.000000</td>\n",
              "      <td>666.000000</td>\n",
              "      <td>20.200000</td>\n",
              "      <td>16.955000</td>\n",
              "      <td>3.218876</td>\n",
              "    </tr>\n",
              "    <tr>\n",
              "      <th>max</th>\n",
              "      <td>88.976200</td>\n",
              "      <td>100.000000</td>\n",
              "      <td>27.740000</td>\n",
              "      <td>1.000000</td>\n",
              "      <td>0.871000</td>\n",
              "      <td>8.780000</td>\n",
              "      <td>100.000000</td>\n",
              "      <td>12.126500</td>\n",
              "      <td>24.000000</td>\n",
              "      <td>711.000000</td>\n",
              "      <td>22.000000</td>\n",
              "      <td>37.970000</td>\n",
              "      <td>3.912023</td>\n",
              "    </tr>\n",
              "  </tbody>\n",
              "</table>\n",
              "</div>"
            ],
            "text/plain": [
              "             crim          zn       indus  ...     ptratio       lstat          mv\n",
              "count  506.000000  506.000000  506.000000  ...  506.000000  506.000000  506.000000\n",
              "mean     3.613524   11.363636   11.136779  ...   18.455534   12.653063    3.034558\n",
              "std      8.601545   23.322453    6.860353  ...    2.164946    7.141062    0.408275\n",
              "min      0.006320    0.000000    0.460000  ...   12.600000    1.730000    1.609438\n",
              "25%      0.082045    0.000000    5.190000  ...   17.400000    6.950000    2.834680\n",
              "50%      0.256510    0.000000    9.690000  ...   19.050000   11.360000    3.054001\n",
              "75%      3.677082   12.500000   18.100000  ...   20.200000   16.955000    3.218876\n",
              "max     88.976200  100.000000   27.740000  ...   22.000000   37.970000    3.912023\n",
              "\n",
              "[8 rows x 13 columns]"
            ]
          },
          "metadata": {
            "tags": []
          },
          "execution_count": 312
        }
      ]
    },
    {
      "cell_type": "code",
      "metadata": {
        "id": "BX2T1XiEUcae",
        "colab_type": "code",
        "outputId": "7c79a1c0-ea28-4d59-fff8-9d84b08e2c5a",
        "colab": {
          "base_uri": "https://localhost:8080/",
          "height": 320
        }
      },
      "source": [
        "# preprocess the data - scale everything to zero mean and unit variance\n",
        "# scale everything but the response variable\n",
        "no_response = df.drop(columns=['mv'])\n",
        "df_preprocessing = sklearn.preprocessing.scale(no_response)\n",
        "df = pd.concat((pd.DataFrame(df_preprocessing),\n",
        "                pd.DataFrame(df['mv'])),\n",
        "               axis = 1)\n",
        "\n",
        "df.columns = list(base_df.columns) \n",
        "\n",
        "df.describe()"
      ],
      "execution_count": 0,
      "outputs": [
        {
          "output_type": "execute_result",
          "data": {
            "text/html": [
              "<div>\n",
              "<style scoped>\n",
              "    .dataframe tbody tr th:only-of-type {\n",
              "        vertical-align: middle;\n",
              "    }\n",
              "\n",
              "    .dataframe tbody tr th {\n",
              "        vertical-align: top;\n",
              "    }\n",
              "\n",
              "    .dataframe thead th {\n",
              "        text-align: right;\n",
              "    }\n",
              "</style>\n",
              "<table border=\"1\" class=\"dataframe\">\n",
              "  <thead>\n",
              "    <tr style=\"text-align: right;\">\n",
              "      <th></th>\n",
              "      <th>crim</th>\n",
              "      <th>zn</th>\n",
              "      <th>indus</th>\n",
              "      <th>chas</th>\n",
              "      <th>nox</th>\n",
              "      <th>rooms</th>\n",
              "      <th>age</th>\n",
              "      <th>dis</th>\n",
              "      <th>rad</th>\n",
              "      <th>tax</th>\n",
              "      <th>ptratio</th>\n",
              "      <th>lstat</th>\n",
              "      <th>mv</th>\n",
              "    </tr>\n",
              "  </thead>\n",
              "  <tbody>\n",
              "    <tr>\n",
              "      <th>count</th>\n",
              "      <td>5.060000e+02</td>\n",
              "      <td>5.060000e+02</td>\n",
              "      <td>5.060000e+02</td>\n",
              "      <td>5.060000e+02</td>\n",
              "      <td>5.060000e+02</td>\n",
              "      <td>5.060000e+02</td>\n",
              "      <td>5.060000e+02</td>\n",
              "      <td>5.060000e+02</td>\n",
              "      <td>5.060000e+02</td>\n",
              "      <td>5.060000e+02</td>\n",
              "      <td>5.060000e+02</td>\n",
              "      <td>5.060000e+02</td>\n",
              "      <td>506.000000</td>\n",
              "    </tr>\n",
              "    <tr>\n",
              "      <th>mean</th>\n",
              "      <td>-8.688702e-17</td>\n",
              "      <td>3.306534e-16</td>\n",
              "      <td>2.804081e-16</td>\n",
              "      <td>-3.100287e-16</td>\n",
              "      <td>-8.071058e-16</td>\n",
              "      <td>-5.978968e-17</td>\n",
              "      <td>-2.650493e-16</td>\n",
              "      <td>8.293761e-17</td>\n",
              "      <td>1.514379e-15</td>\n",
              "      <td>-9.934960e-16</td>\n",
              "      <td>4.493551e-16</td>\n",
              "      <td>-1.595123e-16</td>\n",
              "      <td>3.034558</td>\n",
              "    </tr>\n",
              "    <tr>\n",
              "      <th>std</th>\n",
              "      <td>1.000990e+00</td>\n",
              "      <td>1.000990e+00</td>\n",
              "      <td>1.000990e+00</td>\n",
              "      <td>1.000990e+00</td>\n",
              "      <td>1.000990e+00</td>\n",
              "      <td>1.000990e+00</td>\n",
              "      <td>1.000990e+00</td>\n",
              "      <td>1.000990e+00</td>\n",
              "      <td>1.000990e+00</td>\n",
              "      <td>1.000990e+00</td>\n",
              "      <td>1.000990e+00</td>\n",
              "      <td>1.000990e+00</td>\n",
              "      <td>0.408275</td>\n",
              "    </tr>\n",
              "    <tr>\n",
              "      <th>min</th>\n",
              "      <td>-4.197819e-01</td>\n",
              "      <td>-4.877224e-01</td>\n",
              "      <td>-1.557842e+00</td>\n",
              "      <td>-2.725986e-01</td>\n",
              "      <td>-1.465882e+00</td>\n",
              "      <td>-3.880249e+00</td>\n",
              "      <td>-2.335437e+00</td>\n",
              "      <td>-1.267069e+00</td>\n",
              "      <td>-9.828429e-01</td>\n",
              "      <td>-1.313990e+00</td>\n",
              "      <td>-2.707379e+00</td>\n",
              "      <td>-1.531127e+00</td>\n",
              "      <td>1.609438</td>\n",
              "    </tr>\n",
              "    <tr>\n",
              "      <th>25%</th>\n",
              "      <td>-4.109696e-01</td>\n",
              "      <td>-4.877224e-01</td>\n",
              "      <td>-8.676906e-01</td>\n",
              "      <td>-2.725986e-01</td>\n",
              "      <td>-9.130288e-01</td>\n",
              "      <td>-5.686303e-01</td>\n",
              "      <td>-8.374480e-01</td>\n",
              "      <td>-8.056878e-01</td>\n",
              "      <td>-6.379618e-01</td>\n",
              "      <td>-7.675760e-01</td>\n",
              "      <td>-4.880391e-01</td>\n",
              "      <td>-7.994200e-01</td>\n",
              "      <td>2.834680</td>\n",
              "    </tr>\n",
              "    <tr>\n",
              "      <th>50%</th>\n",
              "      <td>-3.906665e-01</td>\n",
              "      <td>-4.877224e-01</td>\n",
              "      <td>-2.110985e-01</td>\n",
              "      <td>-2.725986e-01</td>\n",
              "      <td>-1.442174e-01</td>\n",
              "      <td>-1.084655e-01</td>\n",
              "      <td>3.173816e-01</td>\n",
              "      <td>-2.793234e-01</td>\n",
              "      <td>-5.230014e-01</td>\n",
              "      <td>-4.646726e-01</td>\n",
              "      <td>2.748590e-01</td>\n",
              "      <td>-1.812536e-01</td>\n",
              "      <td>3.054001</td>\n",
              "    </tr>\n",
              "    <tr>\n",
              "      <th>75%</th>\n",
              "      <td>7.396560e-03</td>\n",
              "      <td>4.877224e-02</td>\n",
              "      <td>1.015999e+00</td>\n",
              "      <td>-2.725986e-01</td>\n",
              "      <td>5.986790e-01</td>\n",
              "      <td>4.827678e-01</td>\n",
              "      <td>9.067981e-01</td>\n",
              "      <td>6.623709e-01</td>\n",
              "      <td>1.661245e+00</td>\n",
              "      <td>1.530926e+00</td>\n",
              "      <td>8.065758e-01</td>\n",
              "      <td>6.030188e-01</td>\n",
              "      <td>3.218876</td>\n",
              "    </tr>\n",
              "    <tr>\n",
              "      <th>max</th>\n",
              "      <td>9.933931e+00</td>\n",
              "      <td>3.804234e+00</td>\n",
              "      <td>2.422565e+00</td>\n",
              "      <td>3.668398e+00</td>\n",
              "      <td>2.732346e+00</td>\n",
              "      <td>3.555044e+00</td>\n",
              "      <td>1.117494e+00</td>\n",
              "      <td>3.960518e+00</td>\n",
              "      <td>1.661245e+00</td>\n",
              "      <td>1.798194e+00</td>\n",
              "      <td>1.638828e+00</td>\n",
              "      <td>3.548771e+00</td>\n",
              "      <td>3.912023</td>\n",
              "    </tr>\n",
              "  </tbody>\n",
              "</table>\n",
              "</div>"
            ],
            "text/plain": [
              "               crim            zn  ...         lstat          mv\n",
              "count  5.060000e+02  5.060000e+02  ...  5.060000e+02  506.000000\n",
              "mean  -8.688702e-17  3.306534e-16  ... -1.595123e-16    3.034558\n",
              "std    1.000990e+00  1.000990e+00  ...  1.000990e+00    0.408275\n",
              "min   -4.197819e-01 -4.877224e-01  ... -1.531127e+00    1.609438\n",
              "25%   -4.109696e-01 -4.877224e-01  ... -7.994200e-01    2.834680\n",
              "50%   -3.906665e-01 -4.877224e-01  ... -1.812536e-01    3.054001\n",
              "75%    7.396560e-03  4.877224e-02  ...  6.030188e-01    3.218876\n",
              "max    9.933931e+00  3.804234e+00  ...  3.548771e+00    3.912023\n",
              "\n",
              "[8 rows x 13 columns]"
            ]
          },
          "metadata": {
            "tags": []
          },
          "execution_count": 313
        }
      ]
    },
    {
      "cell_type": "markdown",
      "metadata": {
        "id": "56NDZb30uwkC",
        "colab_type": "text"
      },
      "source": [
        "## Modeling"
      ]
    },
    {
      "cell_type": "markdown",
      "metadata": {
        "id": "ESYiYaNFKnPy",
        "colab_type": "text"
      },
      "source": [
        "Goal for this assignment: do a pretty graph comparing the performance of the models. Maybe number of splits, pruning, something cool on x-axis?"
      ]
    },
    {
      "cell_type": "code",
      "metadata": {
        "id": "DClCkB-1pcKT",
        "colab_type": "code",
        "colab": {}
      },
      "source": [
        "from sklearn.metrics import mean_squared_error\n",
        "from math import sqrt\n",
        "from sklearn.linear_model import Ridge"
      ],
      "execution_count": 0,
      "outputs": []
    },
    {
      "cell_type": "code",
      "metadata": {
        "id": "balhq9Nyonrb",
        "colab_type": "code",
        "outputId": "950a6c72-e9de-4fcb-b31f-73cc51616310",
        "colab": {
          "base_uri": "https://localhost:8080/",
          "height": 91
        }
      },
      "source": [
        "# OLS\n",
        "X_train, X_test, y_train, y_test = train_test_split(\n",
        "  df.loc[:,:'lstat'], df.loc[:,'mv'],\n",
        "    random_state=24601)\n",
        "\n",
        "# OLS regression\n",
        "ols = LinearRegression().fit(X_train, y_train)\n",
        "print(\"Training set score: {:.3f}\".format(ols.score(X_train, y_train)))\n",
        "print(\"Test set score: {:.3f}\".format(ols.score(X_test, y_test)))\n",
        "\n",
        "ols_predictions = pd.DataFrame(ols.predict(X_test))\n",
        "\n",
        "RMSE = sqrt(mean_squared_error(y_test, ols_predictions))\n",
        "print(\"RMSE:{:.3f}\".format(RMSE))\n",
        "\n",
        "# Ridge regression with all vars performed well. Let's cross validate this\n",
        "from sklearn.model_selection import cross_val_score\n",
        "scores = cross_val_score(ols, df.loc[:,:'lstat'], df['mv'], cv=5)\n",
        "print(\"5-Fold Cross Valication Accuracy: %0.2f (+/- %0.2f)\" % (scores.mean(),\n",
        "                                                               scores.std() * 2))"
      ],
      "execution_count": 0,
      "outputs": [
        {
          "output_type": "stream",
          "text": [
            "Training set score: 0.793\n",
            "Test set score: 0.769\n",
            "RMSE:0.191\n",
            "5-Fold Cross Valication Accuracy: 0.62 (+/- 0.13)\n"
          ],
          "name": "stdout"
        }
      ]
    },
    {
      "cell_type": "code",
      "metadata": {
        "id": "2MTdvTb4TOxg",
        "colab_type": "code",
        "outputId": "7668a1ff-2c5b-4d47-f128-bfb61a5e51d3",
        "colab": {
          "base_uri": "https://localhost:8080/",
          "height": 35
        }
      },
      "source": [
        "print(scores)"
      ],
      "execution_count": 0,
      "outputs": [
        {
          "output_type": "stream",
          "text": [
            "[0.70622803 0.68690075 0.5879571  0.56053291 0.54200121]\n"
          ],
          "name": "stdout"
        }
      ]
    },
    {
      "cell_type": "code",
      "metadata": {
        "id": "HMpSW5w_o_RF",
        "colab_type": "code",
        "outputId": "21fe05c5-03e9-47ad-f8a2-08c99a584cca",
        "colab": {
          "base_uri": "https://localhost:8080/",
          "height": 91
        }
      },
      "source": [
        "# ridge regression\n",
        "ridge = Ridge(alpha = 10).fit(X_train, y_train)\n",
        "print(\"Training set score: {:.3f}\".format(ridge.score(X_train, y_train)))\n",
        "print(\"Test set score: {:.3f}\".format(ridge.score(X_test, y_test)))\n",
        "\n",
        "ridge_predictions = pd.DataFrame(ridge.predict(X_test))\n",
        "\n",
        "RMSE = sqrt(mean_squared_error(y_test, ridge_predictions))\n",
        "print(\"RMSE:{:.3f}\".format(RMSE))\n",
        "\n",
        "# Ridge regression cross validate\n",
        "scores = cross_val_score(ridge, df.loc[:,:'lstat'], df['mv'], cv=5)\n",
        "print(\"5-Fold Cross Valication Accuracy: %0.2f (+/- %0.2f)\" % (scores.mean(), scores.std() * 2))"
      ],
      "execution_count": 0,
      "outputs": [
        {
          "output_type": "stream",
          "text": [
            "Training set score: 0.792\n",
            "Test set score: 0.766\n",
            "RMSE:0.192\n",
            "5-Fold Cross Valication Accuracy: 0.63 (+/- 0.17)\n"
          ],
          "name": "stdout"
        }
      ]
    },
    {
      "cell_type": "code",
      "metadata": {
        "id": "SlIDEBUZJI_n",
        "colab_type": "code",
        "outputId": "3725678c-4679-4d56-9ab7-5f3ea89d4776",
        "colab": {
          "base_uri": "https://localhost:8080/",
          "height": 313
        }
      },
      "source": [
        "# random forest\n",
        "#math.log2(12) is approx 3.5 - round this to 4 for max_features\n",
        "from sklearn.ensemble import RandomForestRegressor\n",
        "rforest = RandomForestRegressor(n_estimators = 100,\n",
        "                               max_depth = 7,\n",
        "                               max_features = 4,\n",
        "                               bootstrap = True,\n",
        "                               random_state = 24601).fit(X_train,y_train)\n",
        "\n",
        "#rforest.fit(X_train,y_train)\n",
        "print(\"Training set score: {:.3f}\".format(rforest.score(X_train, y_train)))\n",
        "print(\"Test set score: {:.3f}\".format(rforest.score(X_test, y_test)))\n",
        "\n",
        "rforest_predictions = pd.DataFrame(rforest.predict(X_test))\n",
        "\n",
        "RMSE = sqrt(mean_squared_error(y_test, rforest_predictions))\n",
        "print(\"RMSE:{:.3f}\".format(RMSE))\n",
        "\n",
        "# random forests cross valication\n",
        "scores = cross_val_score(rforest, df.loc[:,:'lstat'], df['mv'], cv=5)\n",
        "print(\"5-Fold Cross Valication Accuracy: %0.2f (+/- %0.2f)\" % (scores.mean(),\n",
        "                                                               scores.std() * 2))\n",
        "# random forest feature importance\n",
        "importances = rforest.feature_importances_\n",
        "indices = np.argsort(importances)[::-1]\n",
        "\n",
        "for name, score in zip(df, indices):\n",
        "        print(name, score)\n"
      ],
      "execution_count": 0,
      "outputs": [
        {
          "output_type": "stream",
          "text": [
            "Training set score: 0.963\n",
            "Test set score: 0.875\n",
            "RMSE:0.141\n",
            "5-Fold Cross Valication Accuracy: 0.67 (+/- 0.22)\n",
            "crim 11\n",
            "zn 5\n",
            "indus 0\n",
            "chas 4\n",
            "nox 10\n",
            "rooms 7\n",
            "age 9\n",
            "dis 2\n",
            "rad 6\n",
            "tax 8\n",
            "ptratio 3\n",
            "lstat 1\n"
          ],
          "name": "stdout"
        }
      ]
    },
    {
      "cell_type": "code",
      "metadata": {
        "id": "CRRdkC_iDMjF",
        "colab_type": "code",
        "outputId": "4016bdfd-a3c6-412c-db44-7460829bac02",
        "colab": {
          "base_uri": "https://localhost:8080/",
          "height": 544
        }
      },
      "source": [
        "std = np.std([tree.feature_importances_ for tree in rforest.estimators_],\n",
        "             axis=0)\n",
        "\n",
        "# Print the feature ranking\n",
        "print(\"Feature ranking:\")\n",
        "\n",
        "for f in range(X_train.shape[1]):\n",
        "    print(\"%d. feature %d (%f)\" % (f + 1, indices[f], importances[indices[f]]))\n",
        "\n",
        "# Plot the feature importances of the forest\n",
        "plt.figure()\n",
        "plt.title(\"Feature Importances\")\n",
        "plt.bar(range(X_train.shape[1]), importances[indices],\n",
        "       color=\"r\", yerr=std[indices], align=\"center\")\n",
        "plt.xticks(range(X_train.shape[1]), df.columns[indices], rotation = 'vertical')\n",
        "plt.xlim([-1, X_train.shape[1]])\n",
        "plt.show()"
      ],
      "execution_count": 0,
      "outputs": [
        {
          "output_type": "stream",
          "text": [
            "Feature ranking:\n",
            "1. feature 11 (0.339002)\n",
            "2. feature 5 (0.189012)\n",
            "3. feature 0 (0.171599)\n",
            "4. feature 4 (0.078084)\n",
            "5. feature 7 (0.059390)\n",
            "6. feature 10 (0.058586)\n",
            "7. feature 9 (0.038832)\n",
            "8. feature 6 (0.024105)\n",
            "9. feature 2 (0.023703)\n",
            "10. feature 8 (0.010244)\n",
            "11. feature 3 (0.003870)\n",
            "12. feature 1 (0.003573)\n"
          ],
          "name": "stdout"
        },
        {
          "output_type": "display_data",
          "data": {
            "image/png": "[encoded data removed]",
            "text/plain": [
              "<Figure size 432x288 with 1 Axes>"
            ]
          },
          "metadata": {
            "tags": []
          }
        }
      ]
    },
    {
      "cell_type": "code",
      "metadata": {
        "id": "D94EfQlm893A",
        "colab_type": "code",
        "outputId": "02b04dec-ccba-4670-e812-e44c39104082",
        "colab": {
          "base_uri": "https://localhost:8080/",
          "height": 183
        }
      },
      "source": [
        "print(gbrt_best)"
      ],
      "execution_count": 0,
      "outputs": [
        {
          "output_type": "stream",
          "text": [
            "GradientBoostingRegressor(alpha=0.9, criterion='friedman_mse', init=None,\n",
            "                          learning_rate=0.1, loss='ls', max_depth=3,\n",
            "                          max_features=None, max_leaf_nodes=None,\n",
            "                          min_impurity_decrease=0.0, min_impurity_split=None,\n",
            "                          min_samples_leaf=1, min_samples_split=2,\n",
            "                          min_weight_fraction_leaf=0.0, n_estimators=33,\n",
            "                          n_iter_no_change=None, presort='auto',\n",
            "                          random_state=None, subsample=1.0, tol=0.0001,\n",
            "                          validation_fraction=0.1, verbose=0, warm_start=False)\n"
          ],
          "name": "stdout"
        }
      ]
    },
    {
      "cell_type": "code",
      "metadata": {
        "id": "Ghbdn-VGdFOb",
        "colab_type": "code",
        "outputId": "1e58259a-a680-468f-e26f-6ba509b3ad68",
        "colab": {
          "base_uri": "https://localhost:8080/",
          "height": 257
        }
      },
      "source": [
        "# gradient boosting\n",
        "from sklearn.ensemble import GradientBoostingRegressor\n",
        "\n",
        "#math.log2(12) approx 3.5 round this to 4\n",
        "gbrt = GradientBoostingRegressor(n_estimators = 100,\n",
        "                                 max_depth = 7,\n",
        "                                 max_features = 4,\n",
        "                                random_state = 24601).fit(X_train,y_train)\n",
        "\n",
        "errors = [mean_squared_error(y_test, y_pred)\n",
        "          for y_pred in gbrt.staged_predict(X_test)]\n",
        "bst_n_estimators = np.argmin(errors) + 1\n",
        "\n",
        "gbrt_best = GradientBoostingRegressor(n_estimators=bst_n_estimators)\n",
        "gbrt_best.fit(X_train, y_train)\n",
        "\n",
        "gbrt_best_predictions = pd.DataFrame(gbrt_best.predict(X_test))\n",
        "\n",
        "print(\"Training set score: {:.3f}\".format(gbrt_best.score(X_train, y_train)))\n",
        "print(\"Test set score: {:.3f}\".format(gbrt_best.score(X_test, y_test)))\n",
        "\n",
        "RMSE = sqrt(mean_squared_error(y_test, gbrt_best_predictions))\n",
        "print(\"RMSE:{:.3f}\".format(RMSE))\n",
        "\n",
        "# Ridge regression cross validate\n",
        "scores = cross_val_score(gbrt_best, df.loc[:,:'lstat'], df['mv'], cv=5)\n",
        "print(\"5-Fold Cross Valication Accuracy: %0.2f (+/- %0.2f)\" % (scores.mean(), scores.std() * 2))\n",
        "print(gbrt_best)"
      ],
      "execution_count": 0,
      "outputs": [
        {
          "output_type": "stream",
          "text": [
            "Training set score: 0.975\n",
            "Test set score: 0.853\n",
            "RMSE:0.152\n",
            "5-Fold Cross Valication Accuracy: 0.71 (+/- 0.17)\n",
            "GradientBoostingRegressor(alpha=0.9, criterion='friedman_mse', init=None,\n",
            "                          learning_rate=0.1, loss='ls', max_depth=3,\n",
            "                          max_features=None, max_leaf_nodes=None,\n",
            "                          min_impurity_decrease=0.0, min_impurity_split=None,\n",
            "                          min_samples_leaf=1, min_samples_split=2,\n",
            "                          min_weight_fraction_leaf=0.0, n_estimators=96,\n",
            "                          n_iter_no_change=None, presort='auto',\n",
            "                          random_state=None, subsample=1.0, tol=0.0001,\n",
            "                          validation_fraction=0.1, verbose=0, warm_start=False)\n"
          ],
          "name": "stdout"
        }
      ]
    },
    {
      "cell_type": "code",
      "metadata": {
        "id": "BSNekwYECGlV",
        "colab_type": "code",
        "outputId": "af2237ac-917a-4aaf-83f4-67d06dec9371",
        "colab": {
          "base_uri": "https://localhost:8080/",
          "height": 35
        }
      },
      "source": [
        "# random forest feature importance\n",
        "importances = gbrt_best.feature_importances_\n",
        "indices = np.argsort(importances)[::-1]\n",
        "print(indices)\n",
        "# same indices as rforest feature importance - no need to plot again"
      ],
      "execution_count": 0,
      "outputs": [
        {
          "output_type": "stream",
          "text": [
            "[11  5  0  4  7 10  9  6  2  8  3  1]\n"
          ],
          "name": "stdout"
        }
      ]
    },
    {
      "cell_type": "code",
      "metadata": {
        "id": "5q68vv1hE_KO",
        "colab_type": "code",
        "outputId": "ed354ac3-bdcc-494a-b063-fc986555e0e4",
        "colab": {
          "base_uri": "https://localhost:8080/",
          "height": 758
        }
      },
      "source": [
        "# correlations with mv - the response variable\n",
        "corr = df.corr()\n",
        "\n",
        "plt.figure(figsize=(13,13))\n",
        "sns.heatmap(corr[['mv']].\n",
        "            sort_values(by=['mv'],ascending=False),\n",
        "            vmin=-1,\n",
        "            cmap='coolwarm',\n",
        "            annot=True);"
      ],
      "execution_count": 0,
      "outputs": [
        {
          "output_type": "display_data",
          "data": {
            "image/png": "[encoded data removed]",
            "text/plain": [
              "<Figure size 936x936 with 2 Axes>"
            ]
          },
          "metadata": {
            "tags": []
          }
        }
      ]
    },
    {
      "cell_type": "code",
      "metadata": {
        "id": "jJyOjmRxIpiL",
        "colab_type": "code",
        "outputId": "26b6e48c-71df-4665-ddd6-e5354349f0b7",
        "colab": {
          "base_uri": "https://localhost:8080/",
          "height": 421
        }
      },
      "source": [
        "from sklearn.tree import export_graphviz\n",
        "\n",
        "rforest.fit(X_train,y_train)\n",
        "\n",
        "export_graphviz(rforest)\n",
        "\n",
        "# Convert to png using system command (requires Graphviz)\n",
        "from subprocess import call\n",
        "call(['dot', '-Tpng', 'tree.dot', '-o', 'tree.png', '-Gdpi=600'])\n",
        "\n",
        "# Display in jupyter notebook\n",
        "from IPython.display import Image\n",
        "Image(filename = 'tree.png')"
      ],
      "execution_count": 0,
      "outputs": [
        {
          "output_type": "error",
          "ename": "NotFittedError",
          "evalue": "ignored",
          "traceback": [
            "\u001b[0;31m---------------------------------------------------------------------------\u001b[0m",
            "\u001b[0;31mNotFittedError\u001b[0m                            Traceback (most recent call last)",
            "\u001b[0;32m<ipython-input-328-52a73d018e14>\u001b[0m in \u001b[0;36m<module>\u001b[0;34m()\u001b[0m\n\u001b[1;32m      3\u001b[0m \u001b[0mrforest\u001b[0m\u001b[0;34m.\u001b[0m\u001b[0mfit\u001b[0m\u001b[0;34m(\u001b[0m\u001b[0mX_train\u001b[0m\u001b[0;34m,\u001b[0m\u001b[0my_train\u001b[0m\u001b[0;34m)\u001b[0m\u001b[0;34m\u001b[0m\u001b[0;34m\u001b[0m\u001b[0m\n\u001b[1;32m      4\u001b[0m \u001b[0;34m\u001b[0m\u001b[0m\n\u001b[0;32m----> 5\u001b[0;31m \u001b[0mexport_graphviz\u001b[0m\u001b[0;34m(\u001b[0m\u001b[0mrforest\u001b[0m\u001b[0;34m)\u001b[0m\u001b[0;34m\u001b[0m\u001b[0;34m\u001b[0m\u001b[0m\n\u001b[0m\u001b[1;32m      6\u001b[0m \u001b[0;34m\u001b[0m\u001b[0m\n\u001b[1;32m      7\u001b[0m \u001b[0;31m# Convert to png using system command (requires Graphviz)\u001b[0m\u001b[0;34m\u001b[0m\u001b[0;34m\u001b[0m\u001b[0;34m\u001b[0m\u001b[0m\n",
            "\u001b[0;32m/usr/local/lib/python3.6/dist-packages/sklearn/tree/export.py\u001b[0m in \u001b[0;36mexport_graphviz\u001b[0;34m(decision_tree, out_file, max_depth, feature_names, class_names, label, filled, leaves_parallel, impurity, node_ids, proportion, rotate, rounded, special_characters, precision)\u001b[0m\n\u001b[1;32m    755\u001b[0m     \"\"\"\n\u001b[1;32m    756\u001b[0m \u001b[0;34m\u001b[0m\u001b[0m\n\u001b[0;32m--> 757\u001b[0;31m     \u001b[0mcheck_is_fitted\u001b[0m\u001b[0;34m(\u001b[0m\u001b[0mdecision_tree\u001b[0m\u001b[0;34m,\u001b[0m \u001b[0;34m'tree_'\u001b[0m\u001b[0;34m)\u001b[0m\u001b[0;34m\u001b[0m\u001b[0;34m\u001b[0m\u001b[0m\n\u001b[0m\u001b[1;32m    758\u001b[0m     \u001b[0mown_file\u001b[0m \u001b[0;34m=\u001b[0m \u001b[0;32mFalse\u001b[0m\u001b[0;34m\u001b[0m\u001b[0;34m\u001b[0m\u001b[0m\n\u001b[1;32m    759\u001b[0m     \u001b[0mreturn_string\u001b[0m \u001b[0;34m=\u001b[0m \u001b[0;32mFalse\u001b[0m\u001b[0;34m\u001b[0m\u001b[0;34m\u001b[0m\u001b[0m\n",
            "\u001b[0;32m/usr/local/lib/python3.6/dist-packages/sklearn/utils/validation.py\u001b[0m in \u001b[0;36mcheck_is_fitted\u001b[0;34m(estimator, attributes, msg, all_or_any)\u001b[0m\n\u001b[1;32m    912\u001b[0m \u001b[0;34m\u001b[0m\u001b[0m\n\u001b[1;32m    913\u001b[0m     \u001b[0;32mif\u001b[0m \u001b[0;32mnot\u001b[0m \u001b[0mall_or_any\u001b[0m\u001b[0;34m(\u001b[0m\u001b[0;34m[\u001b[0m\u001b[0mhasattr\u001b[0m\u001b[0;34m(\u001b[0m\u001b[0mestimator\u001b[0m\u001b[0;34m,\u001b[0m \u001b[0mattr\u001b[0m\u001b[0;34m)\u001b[0m \u001b[0;32mfor\u001b[0m \u001b[0mattr\u001b[0m \u001b[0;32min\u001b[0m \u001b[0mattributes\u001b[0m\u001b[0;34m]\u001b[0m\u001b[0;34m)\u001b[0m\u001b[0;34m:\u001b[0m\u001b[0;34m\u001b[0m\u001b[0;34m\u001b[0m\u001b[0m\n\u001b[0;32m--> 914\u001b[0;31m         \u001b[0;32mraise\u001b[0m \u001b[0mNotFittedError\u001b[0m\u001b[0;34m(\u001b[0m\u001b[0mmsg\u001b[0m \u001b[0;34m%\u001b[0m \u001b[0;34m{\u001b[0m\u001b[0;34m'name'\u001b[0m\u001b[0;34m:\u001b[0m \u001b[0mtype\u001b[0m\u001b[0;34m(\u001b[0m\u001b[0mestimator\u001b[0m\u001b[0;34m)\u001b[0m\u001b[0;34m.\u001b[0m\u001b[0m__name__\u001b[0m\u001b[0;34m}\u001b[0m\u001b[0;34m)\u001b[0m\u001b[0;34m\u001b[0m\u001b[0;34m\u001b[0m\u001b[0m\n\u001b[0m\u001b[1;32m    915\u001b[0m \u001b[0;34m\u001b[0m\u001b[0m\n\u001b[1;32m    916\u001b[0m \u001b[0;34m\u001b[0m\u001b[0m\n",
            "\u001b[0;31mNotFittedError\u001b[0m: This RandomForestRegressor instance is not fitted yet. Call 'fit' with appropriate arguments before using this method."
          ]
        }
      ]
    },
    {
      "cell_type": "markdown",
      "metadata": {
        "id": "4kM1lDiJuwvv",
        "colab_type": "text"
      },
      "source": [
        "## Conclusion"
      ]
    }
  ]
}